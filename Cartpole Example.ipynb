{
 "cells": [
  {
   "cell_type": "markdown",
   "metadata": {},
   "source": [
    "# Azure ML Reinforcement Learning Sample\n",
    "\n",
    "Azure ML reinforcement learning is a managed service for running distributed RL (reinforcement learning) simulation and training using the Ray framework.\n",
    "\n",
    "This example uses Ray rllib to train a Cartpole playing agent."
   ]
  },
  {
   "cell_type": "markdown",
   "metadata": {},
   "source": [
    "### Import libraries"
   ]
  },
  {
   "cell_type": "code",
   "execution_count": null,
   "metadata": {},
   "outputs": [],
   "source": [
    "# Azure ML Core imports\n",
    "import azureml.core\n",
    "from azureml.core import Workspace\n",
    "from azureml.core import Experiment\n",
    "from azureml.core.compute import ComputeTarget\n",
    "from azureml.widgets import RunDetails\n",
    "\n",
    "# Azure ML Reinforcement Learning imports\n",
    "from azureml.contrib.train.rl import ReinforcementLearningEstimator, Ray\n",
    "from azureml.contrib.train.rl import WorkerConfiguration\n",
    "\n",
    "# check core SDK version number\n",
    "print(\"Azure ML SDK Version: \", azureml.core.VERSION)"
   ]
  },
  {
   "cell_type": "markdown",
   "metadata": {},
   "source": [
    "### Get Azure ML Workspace"
   ]
  },
  {
   "cell_type": "code",
   "execution_count": null,
   "metadata": {},
   "outputs": [],
   "source": [
    "# Get workspace\n",
    "ws = Workspace.from_config()"
   ]
  },
  {
   "cell_type": "code",
   "execution_count": null,
   "metadata": {},
   "outputs": [],
   "source": [
    "# Get or create compute target\n",
    "compute_target = ws.compute_targets['your-cpu-cluster']\n",
    "compute_target"
   ]
  },
  {
   "cell_type": "markdown",
   "metadata": {},
   "source": [
    "### Describe Cartpole Training Approach\n",
    "\n",
    "This code is in the file `cartpole-one-cpu.py`.\n",
    "\n",
    "```\n",
    "import ray\n",
    "import ray.tune as tune\n",
    "\n",
    "if __name__ == \"__main__\":\n",
    "   ray.init(redis_address = 'localhost:6379')\n",
    "\n",
    "   tune.run(\"PPO\",   \n",
    "            config={\n",
    "               \"env\": \"CartPole-v0\",\n",
    "               \"num_gpus\": 0,\n",
    "               \"num_workers\": 1\n",
    "            },\n",
    "            stop={\n",
    "               \"episode_reward_mean\": 200,\n",
    "               \"time_total_s\": 600\n",
    "            },\n",
    "            checkpoint_freq=1,\n",
    "            checkpoint_at_end=True,\n",
    "            local_dir='./logs'\n",
    "            )\n",
    "\n",
    "```"
   ]
  },
  {
   "cell_type": "markdown",
   "metadata": {},
   "source": [
    "### Create Azure ML Experiment"
   ]
  },
  {
   "cell_type": "code",
   "execution_count": null,
   "metadata": {},
   "outputs": [],
   "source": [
    "experiment_name='cartpole-one-cpu'\n",
    "\n",
    "exp = Experiment(workspace=ws, name=experiment_name)"
   ]
  },
  {
   "cell_type": "markdown",
   "metadata": {},
   "source": [
    "### Create Reinforcement Learning Estimator\n",
    "\n",
    "The `ReinforcementLearningEstimator` is used to submit a job to Azure Machine Learning to start the Ray experiment run."
   ]
  },
  {
   "cell_type": "code",
   "execution_count": null,
   "metadata": {},
   "outputs": [],
   "source": [
    "estimator = ReinforcementLearningEstimator(\n",
    "\n",
    "    # Location of source files\n",
    "    source_directory='files',\n",
    "\n",
    "    # Python script file\n",
    "    entry_script='cartpole-one-cpu.py',\n",
    "    \n",
    "    # The Azure ML compute target set up for Ray head nodes\n",
    "    compute_target=compute_target,\n",
    "    \n",
    "    # GPU usage\n",
    "    use_gpu=False,\n",
    "    \n",
    "    # RL framework.  Currently must be Ray.\n",
    "    rl_framework=Ray()\n",
    ")"
   ]
  },
  {
   "cell_type": "markdown",
   "metadata": {},
   "source": [
    "### Submit the estimator to start experiment"
   ]
  },
  {
   "cell_type": "code",
   "execution_count": null,
   "metadata": {},
   "outputs": [],
   "source": [
    "run = exp.submit(config=estimator)"
   ]
  },
  {
   "cell_type": "markdown",
   "metadata": {},
   "source": [
    "### Monitor experiment\n",
    "\n",
    "Azure ML provides a Jupyter widget to show the real-time status of the experiment."
   ]
  },
  {
   "cell_type": "code",
   "execution_count": null,
   "metadata": {
    "scrolled": false
   },
   "outputs": [],
   "source": [
    "RunDetails(run).show()"
   ]
  },
  {
   "cell_type": "code",
   "execution_count": null,
   "metadata": {},
   "outputs": [],
   "source": []
  }
 ],
 "metadata": {
  "kernelspec": {
   "language": "python"
  },
  "language_info": {
   "codemirror_mode": {
    "name": "ipython",
    "version": 3
   },
   "file_extension": ".py",
   "mimetype": "text/x-python",
   "name": "python",
   "nbconvert_exporter": "python",
   "pygments_lexer": "ipython3",
   "version": "3.7.4"
  }
 },
 "nbformat": 4,
 "nbformat_minor": 2
}
